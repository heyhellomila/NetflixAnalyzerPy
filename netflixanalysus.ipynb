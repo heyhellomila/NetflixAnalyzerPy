{
 "cells": [
  {
   "cell_type": "code",
   "execution_count": 1,
   "id": "initial_id",
   "metadata": {
    "is_executing": true
   },
   "outputs": [],
   "source": [
    "import pandas as pd\n",
    "\n",
    "df = pd.read_csv('ViewingActivity.csv')"
   ]
  },
  {
   "cell_type": "code",
   "execution_count": 2,
   "id": "69021ac8",
   "metadata": {},
   "outputs": [
    {
     "data": {
      "text/plain": [
       "(200, 10)"
      ]
     },
     "execution_count": 2,
     "metadata": {},
     "output_type": "execute_result"
    }
   ],
   "source": [
    "df.shape "
   ]
  },
  {
   "cell_type": "code",
   "execution_count": null,
   "id": "9517ec44",
   "metadata": {},
   "outputs": [],
   "source": [
    "# Indicates that our data set has 200 rows, and 10 columns."
   ]
  },
  {
   "cell_type": "code",
   "execution_count": 4,
   "id": "7cc20856",
   "metadata": {},
   "outputs": [
    {
     "data": {
      "text/html": [
       "<div>\n",
       "<style scoped>\n",
       "    .dataframe tbody tr th:only-of-type {\n",
       "        vertical-align: middle;\n",
       "    }\n",
       "\n",
       "    .dataframe tbody tr th {\n",
       "        vertical-align: top;\n",
       "    }\n",
       "\n",
       "    .dataframe thead th {\n",
       "        text-align: right;\n",
       "    }\n",
       "</style>\n",
       "<table border=\"1\" class=\"dataframe\">\n",
       "  <thead>\n",
       "    <tr style=\"text-align: right;\">\n",
       "      <th></th>\n",
       "      <th>Profile Name</th>\n",
       "      <th>Start Time</th>\n",
       "      <th>Duration</th>\n",
       "      <th>Attributes</th>\n",
       "      <th>Title</th>\n",
       "      <th>Supplemental Video Type</th>\n",
       "      <th>Device Type</th>\n",
       "      <th>Bookmark</th>\n",
       "      <th>Latest Bookmark</th>\n",
       "      <th>Country</th>\n",
       "    </tr>\n",
       "  </thead>\n",
       "  <tbody>\n",
       "    <tr>\n",
       "      <th>0</th>\n",
       "      <td>Charlie</td>\n",
       "      <td>2013-03-20 5:17:53</td>\n",
       "      <td>0:00:05</td>\n",
       "      <td>NaN</td>\n",
       "      <td>Star Trek: Deep Space Nine: Season 5: Empok No...</td>\n",
       "      <td>NaN</td>\n",
       "      <td>Mac</td>\n",
       "      <td>0:00:05</td>\n",
       "      <td>Not latest view</td>\n",
       "      <td>US (United States)</td>\n",
       "    </tr>\n",
       "  </tbody>\n",
       "</table>\n",
       "</div>"
      ],
      "text/plain": [
       "  Profile Name          Start Time Duration  Attributes  \\\n",
       "0      Charlie  2013-03-20 5:17:53  0:00:05         NaN   \n",
       "\n",
       "                                               Title  Supplemental Video Type  \\\n",
       "0  Star Trek: Deep Space Nine: Season 5: Empok No...                      NaN   \n",
       "\n",
       "  Device Type Bookmark  Latest Bookmark             Country  \n",
       "0         Mac  0:00:05  Not latest view  US (United States)  "
      ]
     },
     "execution_count": 4,
     "metadata": {},
     "output_type": "execute_result"
    }
   ],
   "source": [
    "df.head() # Prints the first five rows."
   ]
  },
  {
   "cell_type": "code",
   "execution_count": 6,
   "id": "27e50a1b",
   "metadata": {},
   "outputs": [
    {
     "data": {
      "text/html": [
       "<div>\n",
       "<style scoped>\n",
       "    .dataframe tbody tr th:only-of-type {\n",
       "        vertical-align: middle;\n",
       "    }\n",
       "\n",
       "    .dataframe tbody tr th {\n",
       "        vertical-align: top;\n",
       "    }\n",
       "\n",
       "    .dataframe thead th {\n",
       "        text-align: right;\n",
       "    }\n",
       "</style>\n",
       "<table border=\"1\" class=\"dataframe\">\n",
       "  <thead>\n",
       "    <tr style=\"text-align: right;\">\n",
       "      <th></th>\n",
       "      <th>Start Time</th>\n",
       "      <th>Duration</th>\n",
       "      <th>Title</th>\n",
       "    </tr>\n",
       "  </thead>\n",
       "  <tbody>\n",
       "    <tr>\n",
       "      <th>0</th>\n",
       "      <td>2013-03-20 5:17:53</td>\n",
       "      <td>0:00:05</td>\n",
       "      <td>Star Trek: Deep Space Nine: Season 5: Empok No...</td>\n",
       "    </tr>\n",
       "  </tbody>\n",
       "</table>\n",
       "</div>"
      ],
      "text/plain": [
       "           Start Time Duration  \\\n",
       "0  2013-03-20 5:17:53  0:00:05   \n",
       "\n",
       "                                               Title  \n",
       "0  Star Trek: Deep Space Nine: Season 5: Empok No...  "
      ]
     },
     "execution_count": 6,
     "metadata": {},
     "output_type": "execute_result"
    }
   ],
   "source": [
    "# Dropping unnecessary columns (focused on Start Time, Duration, Title)\n",
    "\n",
    "df = df.drop(['Profile Name', 'Attributes', 'Supplemental Video Type', 'Device Type', 'Bookmark', 'Latest Bookmark', 'Country'], axis=1)\n",
    "\n",
    "df.head(1)"
   ]
  },
  {
   "cell_type": "code",
   "execution_count": 19,
   "id": "869d66d7",
   "metadata": {},
   "outputs": [
    {
     "data": {
      "text/plain": [
       "Start Time    datetime64[ns, US/Eastern]\n",
       "Duration                 timedelta64[ns]\n",
       "Title                             object\n",
       "dtype: object"
      ]
     },
     "execution_count": 19,
     "metadata": {},
     "output_type": "execute_result"
    }
   ],
   "source": [
    "#Converting Strings to Date-time and Timedelta in Pandas - first have to see what format the data is being stored in\n",
    "df.dtypes\n"
   ]
  },
  {
   "cell_type": "code",
   "execution_count": 14,
   "id": "3b7760b3",
   "metadata": {},
   "outputs": [
    {
     "data": {
      "text/plain": [
       "Start Time    datetime64[ns, UTC]\n",
       "Duration                   object\n",
       "Title                      object\n",
       "dtype: object"
      ]
     },
     "execution_count": 14,
     "metadata": {},
     "output_type": "execute_result"
    }
   ],
   "source": [
    "# Let's convert. Makin sure the time zone is uniform to convert to EST time zone.\n",
    "df['Start Time'] = pd.to_datetime(df['Start Time'], utc=True)\n",
    "df.dtypes"
   ]
  },
  {
   "cell_type": "code",
   "execution_count": 15,
   "id": "c2a152b3",
   "metadata": {},
   "outputs": [
    {
     "data": {
      "text/html": [
       "<div>\n",
       "<style scoped>\n",
       "    .dataframe tbody tr th:only-of-type {\n",
       "        vertical-align: middle;\n",
       "    }\n",
       "\n",
       "    .dataframe tbody tr th {\n",
       "        vertical-align: top;\n",
       "    }\n",
       "\n",
       "    .dataframe thead th {\n",
       "        text-align: right;\n",
       "    }\n",
       "</style>\n",
       "<table border=\"1\" class=\"dataframe\">\n",
       "  <thead>\n",
       "    <tr style=\"text-align: right;\">\n",
       "      <th></th>\n",
       "      <th>Start Time</th>\n",
       "      <th>Duration</th>\n",
       "      <th>Title</th>\n",
       "    </tr>\n",
       "  </thead>\n",
       "  <tbody>\n",
       "    <tr>\n",
       "      <th>0</th>\n",
       "      <td>2013-03-20 01:17:53-04:00</td>\n",
       "      <td>0:00:05</td>\n",
       "      <td>Star Trek: Deep Space Nine: Season 5: Empok No...</td>\n",
       "    </tr>\n",
       "  </tbody>\n",
       "</table>\n",
       "</div>"
      ],
      "text/plain": [
       "                 Start Time Duration  \\\n",
       "0 2013-03-20 01:17:53-04:00  0:00:05   \n",
       "\n",
       "                                               Title  \n",
       "0  Star Trek: Deep Space Nine: Season 5: Empok No...  "
      ]
     },
     "execution_count": 15,
     "metadata": {},
     "output_type": "execute_result"
    }
   ],
   "source": [
    "# change the Start Time column into the dataframe's index\n",
    "df = df.set_index('Start Time')\n",
    "\n",
    "# convert from UTC timezone to eastern time\n",
    "df.index = df.index.tz_convert('US/Eastern')\n",
    "\n",
    "# reset the index so that Start Time becomes a column again\n",
    "df = df.reset_index()\n",
    "\n",
    "#double-check that it worked\n",
    "df.head(1)"
   ]
  },
  {
   "cell_type": "code",
   "execution_count": 16,
   "id": "1c005279",
   "metadata": {},
   "outputs": [
    {
     "data": {
      "text/plain": [
       "Start Time    datetime64[ns, US/Eastern]\n",
       "Duration                 timedelta64[ns]\n",
       "Title                             object\n",
       "dtype: object"
      ]
     },
     "execution_count": 16,
     "metadata": {},
     "output_type": "execute_result"
    }
   ],
   "source": [
    "df['Duration'] = pd.to_timedelta(df['Duration'])\n",
    "df.dtypes"
   ]
  },
  {
   "cell_type": "code",
   "execution_count": 20,
   "id": "35c4c865",
   "metadata": {},
   "outputs": [],
   "source": [
    "#Filtering Strings by substring in Pandas using str.contains - we want to filter for views of only 'Office'\n",
    "\n",
    "\n",
    "# create a new dataframe called office that that takes from df\n",
    "# only the rows in which the Title column contains 'The Office (U.S.)'\n",
    "office = df[df['Title'].str.contains('The Office (U.S.)', regex=False)]\n"
   ]
  },
  {
   "cell_type": "code",
   "execution_count": 21,
   "id": "87d91eaa",
   "metadata": {},
   "outputs": [
    {
     "data": {
      "text/plain": [
       "(137, 3)"
      ]
     },
     "execution_count": 21,
     "metadata": {},
     "output_type": "execute_result"
    }
   ],
   "source": [
    "office.shape"
   ]
  },
  {
   "cell_type": "code",
   "execution_count": 22,
   "id": "660a960a",
   "metadata": {},
   "outputs": [
    {
     "data": {
      "text/plain": [
       "Timedelta('1 days 15:00:39')"
      ]
     },
     "execution_count": 22,
     "metadata": {},
     "output_type": "execute_result"
    }
   ],
   "source": [
    "office['Duration'].sum()"
   ]
  },
  {
   "cell_type": "code",
   "execution_count": 28,
   "id": "7be124ec",
   "metadata": {},
   "outputs": [
    {
     "name": "stderr",
     "output_type": "stream",
     "text": [
      "/tmp/ipykernel_13164/1110542179.py:4: SettingWithCopyWarning: \n",
      "A value is trying to be set on a copy of a slice from a DataFrame.\n",
      "Try using .loc[row_indexer,col_indexer] = value instead\n",
      "\n",
      "See the caveats in the documentation: https://pandas.pydata.org/pandas-docs/stable/user_guide/indexing.html#returning-a-view-versus-a-copy\n",
      "  office['weekday'] = office['Start Time'].dt.weekday\n",
      "/tmp/ipykernel_13164/1110542179.py:5: SettingWithCopyWarning: \n",
      "A value is trying to be set on a copy of a slice from a DataFrame.\n",
      "Try using .loc[row_indexer,col_indexer] = value instead\n",
      "\n",
      "See the caveats in the documentation: https://pandas.pydata.org/pandas-docs/stable/user_guide/indexing.html#returning-a-view-versus-a-copy\n",
      "  office['hour'] = office['Start Time'].dt.hour\n"
     ]
    },
    {
     "data": {
      "text/html": [
       "<div>\n",
       "<style scoped>\n",
       "    .dataframe tbody tr th:only-of-type {\n",
       "        vertical-align: middle;\n",
       "    }\n",
       "\n",
       "    .dataframe tbody tr th {\n",
       "        vertical-align: top;\n",
       "    }\n",
       "\n",
       "    .dataframe thead th {\n",
       "        text-align: right;\n",
       "    }\n",
       "</style>\n",
       "<table border=\"1\" class=\"dataframe\">\n",
       "  <thead>\n",
       "    <tr style=\"text-align: right;\">\n",
       "      <th></th>\n",
       "      <th>Start Time</th>\n",
       "      <th>Duration</th>\n",
       "      <th>Title</th>\n",
       "      <th>weekday</th>\n",
       "      <th>hour</th>\n",
       "    </tr>\n",
       "  </thead>\n",
       "  <tbody>\n",
       "    <tr>\n",
       "      <th>9</th>\n",
       "      <td>2013-03-18 19:25:36-04:00</td>\n",
       "      <td>0 days 00:00:02</td>\n",
       "      <td>The Office (U.S.): Season 5: The Duel (Episode...</td>\n",
       "      <td>0</td>\n",
       "      <td>19</td>\n",
       "    </tr>\n",
       "    <tr>\n",
       "      <th>10</th>\n",
       "      <td>2013-03-18 19:04:22-04:00</td>\n",
       "      <td>0 days 00:21:07</td>\n",
       "      <td>The Office (U.S.): Season 5: Moroccan Christma...</td>\n",
       "      <td>0</td>\n",
       "      <td>19</td>\n",
       "    </tr>\n",
       "    <tr>\n",
       "      <th>11</th>\n",
       "      <td>2013-03-18 18:42:50-04:00</td>\n",
       "      <td>0 days 00:21:30</td>\n",
       "      <td>The Office (U.S.): Season 5: The Surplus (Epis...</td>\n",
       "      <td>0</td>\n",
       "      <td>18</td>\n",
       "    </tr>\n",
       "    <tr>\n",
       "      <th>12</th>\n",
       "      <td>2013-03-18 18:21:52-04:00</td>\n",
       "      <td>0 days 00:20:55</td>\n",
       "      <td>The Office (U.S.): Season 5: Frame Toby (Episo...</td>\n",
       "      <td>0</td>\n",
       "      <td>18</td>\n",
       "    </tr>\n",
       "    <tr>\n",
       "      <th>13</th>\n",
       "      <td>2013-03-18 18:20:53-04:00</td>\n",
       "      <td>0 days 00:00:55</td>\n",
       "      <td>The Office (U.S.): Season 5: Business Trip (Ep...</td>\n",
       "      <td>0</td>\n",
       "      <td>18</td>\n",
       "    </tr>\n",
       "  </tbody>\n",
       "</table>\n",
       "</div>"
      ],
      "text/plain": [
       "                  Start Time        Duration  \\\n",
       "9  2013-03-18 19:25:36-04:00 0 days 00:00:02   \n",
       "10 2013-03-18 19:04:22-04:00 0 days 00:21:07   \n",
       "11 2013-03-18 18:42:50-04:00 0 days 00:21:30   \n",
       "12 2013-03-18 18:21:52-04:00 0 days 00:20:55   \n",
       "13 2013-03-18 18:20:53-04:00 0 days 00:00:55   \n",
       "\n",
       "                                                Title  weekday  hour  \n",
       "9   The Office (U.S.): Season 5: The Duel (Episode...        0    19  \n",
       "10  The Office (U.S.): Season 5: Moroccan Christma...        0    19  \n",
       "11  The Office (U.S.): Season 5: The Surplus (Epis...        0    18  \n",
       "12  The Office (U.S.): Season 5: Frame Toby (Episo...        0    18  \n",
       "13  The Office (U.S.): Season 5: Business Trip (Ep...        0    18  "
      ]
     },
     "execution_count": 28,
     "metadata": {},
     "output_type": "execute_result"
    }
   ],
   "source": [
    "#Let's focus on when and what day I watch a particular show?\n",
    "import matplotlib\n",
    "\n",
    "office['weekday'] = office['Start Time'].dt.weekday\n",
    "office['hour'] = office['Start Time'].dt.hour\n",
    "\n",
    "#Check to make sure the columns were added correctly\n",
    "\n",
    "office.head()"
   ]
  },
  {
   "cell_type": "code",
   "execution_count": 29,
   "id": "8db22eef",
   "metadata": {},
   "outputs": [
    {
     "name": "stderr",
     "output_type": "stream",
     "text": [
      "/tmp/ipykernel_13164/3197234684.py:2: SettingWithCopyWarning: \n",
      "A value is trying to be set on a copy of a slice from a DataFrame.\n",
      "Try using .loc[row_indexer,col_indexer] = value instead\n",
      "\n",
      "See the caveats in the documentation: https://pandas.pydata.org/pandas-docs/stable/user_guide/indexing.html#returning-a-view-versus-a-copy\n",
      "  office['weekday'] = pd.Categorical(office['weekday'], categories=\n"
     ]
    },
    {
     "data": {
      "text/plain": [
       "<Axes: title={'center': 'Office Episodes Watched by Day'}, xlabel='weekday'>"
      ]
     },
     "execution_count": 29,
     "metadata": {},
     "output_type": "execute_result"
    },
    {
     "data": {
      "image/png": "[encoded data removed]",
      "text/plain": [
       "<Figure size 2000x1000 with 1 Axes>"
      ]
     },
     "metadata": {},
     "output_type": "display_data"
    }
   ],
   "source": [
    "# set our categorical and define the order so the days are plotted Monday-Sunday\n",
    "office['weekday'] = pd.Categorical(office['weekday'], categories=\n",
    "    [0,1,2,3,4,5,6],\n",
    "    ordered=True)\n",
    "\n",
    "# create office_by_day and count the rows for each weekday, assigning the result to that variable\n",
    "office_by_day = office['weekday'].value_counts()\n",
    "\n",
    "# sort the index using our categorical, so that Monday (0) is first, Tuesday (1) is second, etc.\n",
    "office_by_day = office_by_day.sort_index()\n",
    "\n",
    "# optional: update the font size to make it a bit larger and easier to read\n",
    "matplotlib.rcParams.update({'font.size': 22})\n",
    "\n",
    "# plot office_by_day as a bar chart with the listed size and title\n",
    "office_by_day.plot(kind='bar', figsize=(20,10), title='Office Episodes Watched by Day')"
   ]
  },
  {
   "cell_type": "code",
   "execution_count": 30,
   "id": "33dc773d",
   "metadata": {},
   "outputs": [
    {
     "name": "stderr",
     "output_type": "stream",
     "text": [
      "/tmp/ipykernel_13164/274971247.py:3: SettingWithCopyWarning: \n",
      "A value is trying to be set on a copy of a slice from a DataFrame.\n",
      "Try using .loc[row_indexer,col_indexer] = value instead\n",
      "\n",
      "See the caveats in the documentation: https://pandas.pydata.org/pandas-docs/stable/user_guide/indexing.html#returning-a-view-versus-a-copy\n",
      "  office['hour'] = pd.Categorical(office['hour'], categories=\n"
     ]
    },
    {
     "data": {
      "text/plain": [
       "<Axes: title={'center': 'Office Episodes Watched by Hour'}, xlabel='hour'>"
      ]
     },
     "execution_count": 30,
     "metadata": {},
     "output_type": "execute_result"
    },
    {
     "data": {
      "image/png": "[encoded data removed]",
      "text/plain": [
       "<Figure size 2000x1000 with 1 Axes>"
      ]
     },
     "metadata": {},
     "output_type": "display_data"
    }
   ],
   "source": [
    "# set our categorical and define the order so the hours are plotted 0-23\n",
    "\n",
    "office['hour'] = pd.Categorical(office['hour'], categories=\n",
    "    [0,1,2,3,4,5,6,7,8,9,10,11,12,13,14,15,16,17,18,19,20,21,22,23],\n",
    "    ordered=True)\n",
    "\n",
    "# create office_by_hour and count the rows for each hour, assigning the result to that variable\n",
    "\n",
    "office_by_hour = office['hour'].value_counts()\n",
    "\n",
    "# sort the index using our categorical, so that midnight (0) is first, 1 a.m. (1) is second, etc.\n",
    "\n",
    "office_by_hour = office_by_hour.sort_index()\n",
    "\n",
    "# plot office_by_hour as a bar chart with the listed size and title\n",
    "\n",
    "office_by_hour.plot(kind='bar', figsize=(20,10), title='Office Episodes Watched by Hour')"
   ]
  }
 ],
 "metadata": {
  "kernelspec": {
   "display_name": "Python 3 (ipykernel)",
   "language": "python",
   "name": "python3"
  },
  "language_info": {
   "codemirror_mode": {
    "name": "ipython",
    "version": 3
   },
   "file_extension": ".py",
   "mimetype": "text/x-python",
   "name": "python",
   "nbconvert_exporter": "python",
   "pygments_lexer": "ipython3",
   "version": "3.11.5"
  }
 },
 "nbformat": 4,
 "nbformat_minor": 5
}
